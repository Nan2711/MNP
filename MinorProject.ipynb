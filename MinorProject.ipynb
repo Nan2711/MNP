{
  "nbformat": 4,
  "nbformat_minor": 0,
  "metadata": {
    "colab": {
      "name": "MinorProject.ipynb",
      "provenance": [],
      "mount_file_id": "10LkeRqjDfZcdovGnOrRNXS7uiVIwiYko",
      "authorship_tag": "ABX9TyN3iJASpA4iPqa0ZdhibO6d"
    },
    "kernelspec": {
      "name": "python3",
      "display_name": "Python 3"
    },
    "language_info": {
      "name": "python"
    },
    "accelerator": "GPU"
  },
  "cells": [
    {
      "cell_type": "markdown",
      "metadata": {
        "id": "dOMeBJmlbRz8"
      },
      "source": [
        " **Fruit Quality Classification using CNN**"
      ]
    },
    {
      "cell_type": "markdown",
      "metadata": {
        "id": "1V1g2r6r0_bt"
      },
      "source": [
        "Loading ImageNet Base Model"
      ]
    },
    {
      "cell_type": "code",
      "metadata": {
        "id": "TNZRm7gvMnfT"
      },
      "source": [
        "from tensorflow import keras\n",
        "\n",
        "base_model = keras.applications.VGG16(\n",
        "    weights='imagenet',  # Load weights pre-trained on ImageNet.\n",
        "    input_shape=(224, 224, 3),\n",
        "    include_top=False)"
      ],
      "execution_count": null,
      "outputs": []
    },
    {
      "cell_type": "markdown",
      "metadata": {
        "id": "PJZ2wiPHSnFv"
      },
      "source": [
        "Freeze Base Model"
      ]
    },
    {
      "cell_type": "code",
      "metadata": {
        "id": "o64y-6IHY239"
      },
      "source": [
        "base_model.trainable = False"
      ],
      "execution_count": null,
      "outputs": []
    },
    {
      "cell_type": "markdown",
      "metadata": {
        "id": "uoInc11eSqTK"
      },
      "source": [
        "Add Layers to Model"
      ]
    },
    {
      "cell_type": "code",
      "metadata": {
        "id": "gI9Ly4eAY4dl"
      },
      "source": [
        "inputs =  keras.Input(shape=(224, 224, 3))\n",
        "\n",
        "x = base_model(inputs, training=False)\n",
        "\n",
        "# pooling layer or flatten layer\n",
        "\n",
        "x = keras.layers.GlobalAveragePooling2D()(x)\n",
        "\n",
        "# Add final dense layer\n",
        "outputs = keras.layers.Dense(6, activation = 'softmax')(x)\n",
        "\n",
        "model = keras.Model(inputs, outputs)"
      ],
      "execution_count": null,
      "outputs": []
    },
    {
      "cell_type": "code",
      "metadata": {
        "colab": {
          "base_uri": "https://localhost:8080/"
        },
        "id": "8_IsLqGbaRg6",
        "outputId": "137eb29a-744d-42a4-f1b3-cebfa74d6807"
      },
      "source": [
        "model.summary()\n"
      ],
      "execution_count": null,
      "outputs": [
        {
          "output_type": "stream",
          "name": "stdout",
          "text": [
            "Model: \"model\"\n",
            "_________________________________________________________________\n",
            "Layer (type)                 Output Shape              Param #   \n",
            "=================================================================\n",
            "input_2 (InputLayer)         [(None, 224, 224, 3)]     0         \n",
            "_________________________________________________________________\n",
            "vgg16 (Functional)           (None, 7, 7, 512)         14714688  \n",
            "_________________________________________________________________\n",
            "global_average_pooling2d (Gl (None, 512)               0         \n",
            "_________________________________________________________________\n",
            "dense (Dense)                (None, 6)                 3078      \n",
            "=================================================================\n",
            "Total params: 14,717,766\n",
            "Trainable params: 3,078\n",
            "Non-trainable params: 14,714,688\n",
            "_________________________________________________________________\n"
          ]
        }
      ]
    },
    {
      "cell_type": "markdown",
      "metadata": {
        "id": "_mnehAElTGxa"
      },
      "source": [
        "Compile Model"
      ]
    },
    {
      "cell_type": "code",
      "metadata": {
        "id": "Xa54dxWUbdi2"
      },
      "source": [
        "model.compile(loss='categorical_crossentropy', optimizer='adam',metrics=['accuracy'])"
      ],
      "execution_count": null,
      "outputs": []
    },
    {
      "cell_type": "markdown",
      "metadata": {
        "id": "9FIBa2iXTKUN"
      },
      "source": [
        "Augment the Data"
      ]
    },
    {
      "cell_type": "code",
      "metadata": {
        "id": "4peQmREIb_Gw"
      },
      "source": [
        "from tensorflow.keras.preprocessing.image import ImageDataGenerator\n",
        "\n",
        "datagen = ImageDataGenerator(samplewise_center=True,  # set each sample mean to 0\n",
        "        rotation_range=10,  # randomly rotate images in the range (degrees, 0 to 180)\n",
        "        zoom_range = 0.1, # Randomly zoom image \n",
        "        width_shift_range=0.1,  # randomly shift images horizontally (fraction of total width)\n",
        "        height_shift_range=0.1,  # randomly shift images vertically (fraction of total height)\n",
        "        horizontal_flip=True,  # randomly flip images\n",
        "        vertical_flip=False) # we don't expect fruit to be upside-down so we will not flip vertically"
      ],
      "execution_count": null,
      "outputs": []
    },
    {
      "cell_type": "markdown",
      "metadata": {
        "id": "j1mpG3H2TP-8"
      },
      "source": [
        "Load Dataset"
      ]
    },
    {
      "cell_type": "code",
      "metadata": {
        "colab": {
          "base_uri": "https://localhost:8080/"
        },
        "id": "JrqFo83ncjHc",
        "outputId": "1ab3ca1a-b80b-4383-f08f-72cf1f4f3a48"
      },
      "source": [
        "# load and iterate training dataset\n",
        "train_it = datagen.flow_from_directory('/content/drive/MyDrive/dataset/train',\n",
        "                                       target_size=(224, 224), \n",
        "                                       color_mode='rgb', \n",
        "                                       class_mode=\"categorical\")\n",
        "# load and iterate validation dataset\n",
        "valid_it = datagen.flow_from_directory('/content/drive/MyDrive/dataset/test',\n",
        "                                      target_size=(224, 224), \n",
        "                                      color_mode='rgb', \n",
        "                                      class_mode=\"categorical\")"
      ],
      "execution_count": null,
      "outputs": [
        {
          "output_type": "stream",
          "name": "stdout",
          "text": [
            "Found 10904 images belonging to 6 classes.\n",
            "Found 2698 images belonging to 6 classes.\n"
          ]
        }
      ]
    },
    {
      "cell_type": "markdown",
      "metadata": {
        "id": "XwYTt68cTcyK"
      },
      "source": [
        "Train the Model"
      ]
    },
    {
      "cell_type": "code",
      "metadata": {
        "id": "MkMBkqfn0n6G",
        "colab": {
          "base_uri": "https://localhost:8080/"
        },
        "outputId": "d9f20003-3b67-471f-9fb3-13438c0a154f"
      },
      "source": [
        "model.fit(train_it,\n",
        "          validation_data=valid_it,\n",
        "          steps_per_epoch=train_it.samples/train_it.batch_size,\n",
        "          validation_steps=valid_it.samples/valid_it.batch_size,\n",
        "          epochs=5)"
      ],
      "execution_count": null,
      "outputs": [
        {
          "output_type": "stream",
          "name": "stdout",
          "text": [
            "Epoch 1/5\n",
            "340/340 [==============================] - 278s 777ms/step - loss: 0.9225 - accuracy: 0.7767 - val_loss: 0.2144 - val_accuracy: 0.9292\n",
            "Epoch 2/5\n",
            "340/340 [==============================] - 253s 741ms/step - loss: 0.1504 - accuracy: 0.9484 - val_loss: 0.1127 - val_accuracy: 0.9622\n",
            "Epoch 3/5\n",
            "340/340 [==============================] - 252s 739ms/step - loss: 0.1000 - accuracy: 0.9648 - val_loss: 0.0781 - val_accuracy: 0.9733\n",
            "Epoch 4/5\n",
            "340/340 [==============================] - 248s 729ms/step - loss: 0.0729 - accuracy: 0.9748 - val_loss: 0.0652 - val_accuracy: 0.9766\n",
            "Epoch 5/5\n",
            "340/340 [==============================] - 250s 734ms/step - loss: 0.0542 - accuracy: 0.9821 - val_loss: 0.0533 - val_accuracy: 0.9800\n"
          ]
        },
        {
          "output_type": "execute_result",
          "data": {
            "text/plain": [
              "<keras.callbacks.History at 0x7fd8401fded0>"
            ]
          },
          "metadata": {},
          "execution_count": 10
        }
      ]
    },
    {
      "cell_type": "markdown",
      "metadata": {
        "id": "sVeSvpZvThSj"
      },
      "source": [
        "Unfreeze Model for Fine Tuning"
      ]
    },
    {
      "cell_type": "code",
      "metadata": {
        "id": "elTNdns5Hghr"
      },
      "source": [
        "# Unfreeze the base model\n",
        "base_model.trainable = True\n",
        "\n",
        "# Compile the model with a low learning rate\n",
        "model.compile(optimizer=keras.optimizers.RMSprop(learning_rate = .00001),\n",
        "              loss = keras.losses.CategoricalCrossentropy(from_logits=True) , metrics =[keras.metrics.CategoricalAccuracy()] )"
      ],
      "execution_count": null,
      "outputs": []
    },
    {
      "cell_type": "code",
      "metadata": {
        "colab": {
          "base_uri": "https://localhost:8080/"
        },
        "id": "9m-4nDT_HoU2",
        "outputId": "d379af67-dca0-4f3a-f6e1-725d9a49d2dd"
      },
      "source": [
        "model.fit(train_it,\n",
        "          validation_data=valid_it,\n",
        "          steps_per_epoch=train_it.samples/train_it.batch_size,\n",
        "          validation_steps=valid_it.samples/valid_it.batch_size,\n",
        "          epochs=5)"
      ],
      "execution_count": null,
      "outputs": [
        {
          "output_type": "stream",
          "name": "stdout",
          "text": [
            "Epoch 1/5\n"
          ]
        },
        {
          "output_type": "stream",
          "name": "stderr",
          "text": [
            "/usr/local/lib/python3.7/dist-packages/keras/backend.py:4847: UserWarning: \"`categorical_crossentropy` received `from_logits=True`, but the `output` argument was produced by a sigmoid or softmax activation and thus does not represent logits. Was this intended?\"\n",
            "  '\"`categorical_crossentropy` received `from_logits=True`, but '\n"
          ]
        },
        {
          "output_type": "stream",
          "name": "stdout",
          "text": [
            "340/340 [==============================] - 343s 984ms/step - loss: 0.0520 - categorical_accuracy: 0.9839 - val_loss: 0.0261 - val_categorical_accuracy: 0.9907\n",
            "Epoch 2/5\n",
            "340/340 [==============================] - 330s 967ms/step - loss: 0.0206 - categorical_accuracy: 0.9941 - val_loss: 0.0104 - val_categorical_accuracy: 0.9967\n",
            "Epoch 3/5\n",
            "340/340 [==============================] - 328s 963ms/step - loss: 0.0088 - categorical_accuracy: 0.9963 - val_loss: 0.0037 - val_categorical_accuracy: 0.9981\n",
            "Epoch 4/5\n",
            "340/340 [==============================] - 328s 961ms/step - loss: 0.0051 - categorical_accuracy: 0.9986 - val_loss: 0.0095 - val_categorical_accuracy: 0.9963\n",
            "Epoch 5/5\n",
            "340/340 [==============================] - 330s 968ms/step - loss: 0.0061 - categorical_accuracy: 0.9986 - val_loss: 0.0059 - val_categorical_accuracy: 0.9981\n"
          ]
        },
        {
          "output_type": "execute_result",
          "data": {
            "text/plain": [
              "<keras.callbacks.History at 0x7fd7d2179f50>"
            ]
          },
          "metadata": {},
          "execution_count": 12
        }
      ]
    },
    {
      "cell_type": "markdown",
      "metadata": {
        "id": "9hLJkts9Tn6R"
      },
      "source": [
        "Evaluate the Model"
      ]
    },
    {
      "cell_type": "code",
      "metadata": {
        "colab": {
          "base_uri": "https://localhost:8080/"
        },
        "id": "EuZFrD6ZObJf",
        "outputId": "3c660786-3f01-4144-e0a5-df1645b39d7a"
      },
      "source": [
        "model.evaluate(valid_it, steps=valid_it.samples/valid_it.batch_size)"
      ],
      "execution_count": null,
      "outputs": [
        {
          "output_type": "stream",
          "name": "stdout",
          "text": [
            "84/84 [==============================] - 49s 581ms/step - loss: 0.0080 - categorical_accuracy: 0.9989\n"
          ]
        },
        {
          "output_type": "execute_result",
          "data": {
            "text/plain": [
              "[0.00797105673700571, 0.9988880753517151]"
            ]
          },
          "metadata": {},
          "execution_count": 15
        }
      ]
    }
  ]
}